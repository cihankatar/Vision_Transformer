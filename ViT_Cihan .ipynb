{
 "cells": [
  {
   "cell_type": "code",
   "execution_count": 40,
   "metadata": {},
   "outputs": [],
   "source": [
    "##IMPORT \n",
    "\n",
    "import numpy as np\n",
    "from tqdm import tqdm, trange\n",
    "import torch\n",
    "import torch.nn as nn\n",
    "from torch.optim import Adam\n",
    "from torch.nn import CrossEntropyLoss\n",
    "from torch.utils.data import DataLoader\n",
    "from torchvision.transforms import ToTensor\n",
    "from torchvision.datasets.mnist import MNIST\n",
    "import matplotlib.pyplot as plt\n",
    "from patchify import patchify\n"
   ]
  },
  {
   "cell_type": "code",
   "execution_count": 48,
   "metadata": {},
   "outputs": [],
   "source": [
    "##PATCHFY FUNCTION & POSITIONAL_EMB\n",
    "\n",
    "def patching_fc(images,patch_size):\n",
    "\n",
    "    n,c,h_iamge,w_image=images.shape\n",
    "    n_patch=0\n",
    "    n_patch_per_img = int((h_iamge/patch_size)**2)\n",
    "    patch_vector=int(patch_size**2)\n",
    "    images=images.squeeze()\n",
    "\n",
    "    total_patches = np.zeros((n,n_patch_per_img,patch_vector))\n",
    " \n",
    "    for idx,image in enumerate(images):\n",
    "        patching = patchify(image, (patch_size,patch_size),step=4) # split image into 7x7 small 4x4 patches.patchify(image, (3, 3), step=1)\n",
    "        for i in range(patching.shape[0]):\n",
    "            for j in range (patching.shape[1]):\n",
    "                single_patch=patching[i,j,:,:]\n",
    "                total_patches[idx,n_patch,:]=single_patch.flatten()\n",
    "                n_patch=n_patch+1\n",
    "                if n_patch==49:\n",
    "                    n_patch=0\n",
    "    return total_patches\n",
    "\n",
    "def get_positional_embeddings(sequence_length, d):\n",
    "    result = torch.ones(sequence_length, d)\n",
    "    for i in range(sequence_length):\n",
    "        for j in range(d):\n",
    "            result[i][j] = np.sin(i / (10000 ** (j / d))) if j % 2 == 0 else np.cos(i / (10000 ** ((j - 1) / d)))\n",
    "    return result"
   ]
  },
  {
   "cell_type": "code",
   "execution_count": 50,
   "metadata": {},
   "outputs": [],
   "source": [
    "#IMPORT DATA\n",
    "# \n",
    "transform = ToTensor()\n",
    "train_set = MNIST(root='./../datasets', train=True, download=True, transform=transform)\n",
    "test_set = MNIST(root='./../datasets', train=False, download=False, transform=transform)\n",
    "\n",
    "train_loader = DataLoader(train_set, shuffle=True, batch_size=128)\n",
    "test_loader = DataLoader(test_set, shuffle=False, batch_size=128)\n",
    "\n"
   ]
  },
  {
   "cell_type": "code",
   "execution_count": 51,
   "metadata": {},
   "outputs": [
    {
     "name": "stdout",
     "output_type": "stream",
     "text": [
      "(96, 1, 28, 28)\n",
      "(96, 49, 16)\n"
     ]
    }
   ],
   "source": [
    "#DATA TO PATCH\n",
    "for batch in train_loader:\n",
    "    images, targets = batch \n",
    "\n",
    "#plt.imshow(images[0].squeeze())      #1x28x28--> 28x28\n",
    "images=images.numpy()\n",
    "\n",
    "print(images.shape)\n",
    "print(patching_fc(images,4).shape)\n",
    "patches=torch.tensor(patching_fc(images,4))\n"
   ]
  }
 ],
 "metadata": {
  "kernelspec": {
   "display_name": "Python 3",
   "language": "python",
   "name": "python3"
  },
  "language_info": {
   "codemirror_mode": {
    "name": "ipython",
    "version": 3
   },
   "file_extension": ".py",
   "mimetype": "text/x-python",
   "name": "python",
   "nbconvert_exporter": "python",
   "pygments_lexer": "ipython3",
   "version": "3.9.7"
  },
  "orig_nbformat": 4,
  "vscode": {
   "interpreter": {
    "hash": "aee8b7b246df8f9039afb4144a1f6fd8d2ca17a180786b69acc140d282b71a49"
   }
  }
 },
 "nbformat": 4,
 "nbformat_minor": 2
}
