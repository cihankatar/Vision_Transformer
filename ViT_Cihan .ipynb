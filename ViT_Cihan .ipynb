{
 "cells": [
  {
   "cell_type": "code",
   "execution_count": 40,
   "metadata": {},
   "outputs": [],
   "source": [
    "import numpy as np\n",
    "from tqdm import tqdm, trange\n",
    "import torch\n",
    "import torch.nn as nn\n",
    "from torch.optim import Adam\n",
    "from torch.nn import CrossEntropyLoss\n",
    "from torch.utils.data import DataLoader\n",
    "from torchvision.transforms import ToTensor\n",
    "from torchvision.datasets.mnist import MNIST\n",
    "import matplotlib.pyplot as plt\n",
    "from patchify import patchify\n"
   ]
  },
  {
   "cell_type": "code",
   "execution_count": 41,
   "metadata": {},
   "outputs": [],
   "source": [
    "def patching_fc(images,patch_size):\n",
    "\n",
    "    n,c,h_iamge,w_image=images.shape\n",
    "    n_patch=0\n",
    "    n_patch_per_img = int((h_iamge/patch_size)**2)\n",
    "    patch_vector=int(patch_size**2)\n",
    "    images=images.squeeze()\n",
    "\n",
    "    total_patches = np.zeros((n,n_patch_per_img,patch_vector))\n",
    " \n",
    "    for idx,image in enumerate(images):\n",
    "        patching = patchify(image, (patch_size,patch_size),step=4) # split image into 7x7 small 4x4 patches.patchify(image, (3, 3), step=1)\n",
    "        for i in range(patching.shape[0]):\n",
    "            for j in range (patching.shape[1]):\n",
    "                single_patch=patching[i,j,:,:]\n",
    "                total_patches[idx,n_patch,:]=single_patch.flatten()\n",
    "                n_patch=n_patch+1\n",
    "                if n_patch==49:\n",
    "                    n_patch=0\n",
    "    return total_patches\n"
   ]
  },
  {
   "cell_type": "code",
   "execution_count": 42,
   "metadata": {},
   "outputs": [
    {
     "name": "stdout",
     "output_type": "stream",
     "text": [
      "(96, 49, 16)\n"
     ]
    }
   ],
   "source": [
    "transform = ToTensor()\n",
    "\n",
    "train_set = MNIST(root='./../datasets', train=True, download=True, transform=transform)\n",
    "test_set = MNIST(root='./../datasets', train=False, download=False, transform=transform)\n",
    "\n",
    "train_loader = DataLoader(train_set, shuffle=True, batch_size=128)\n",
    "test_loader = DataLoader(test_set, shuffle=False, batch_size=128)\n",
    "\n",
    "for batch in train_loader:\n",
    "    images, targets = batch \n",
    "\n",
    "#plt.imshow(images[0].squeeze())      #1x28x28--> 28x28\n",
    "images=images.numpy()\n",
    "\n",
    "print(patching_fc(images,4).shape)\n",
    "n,c,h_iamge,w_image=images.shape\n"
   ]
  },
  {
   "cell_type": "code",
   "execution_count": 7,
   "metadata": {},
   "outputs": [
    {
     "name": "stdout",
     "output_type": "stream",
     "text": [
      "(96, 28, 28)\n",
      "<class 'numpy.ndarray'>\n"
     ]
    },
    {
     "ename": "NameError",
     "evalue": "name 'total_patches' is not defined",
     "output_type": "error",
     "traceback": [
      "\u001b[0;31m---------------------------------------------------------------------------\u001b[0m",
      "\u001b[0;31mNameError\u001b[0m                                 Traceback (most recent call last)",
      "\u001b[1;32m/Users/cihankatar/Desktop/Github_Repo/Vision_Transformer/ViT_Cihan .ipynb Cell 3\u001b[0m in \u001b[0;36m<module>\u001b[0;34m\u001b[0m\n\u001b[1;32m     <a href='vscode-notebook-cell:/Users/cihankatar/Desktop/Github_Repo/Vision_Transformer/ViT_Cihan%20.ipynb#W2sZmlsZQ%3D%3D?line=22'>23</a>\u001b[0m                 \u001b[39mif\u001b[39;00m n_patch\u001b[39m==\u001b[39m\u001b[39m49\u001b[39m:\n\u001b[1;32m     <a href='vscode-notebook-cell:/Users/cihankatar/Desktop/Github_Repo/Vision_Transformer/ViT_Cihan%20.ipynb#W2sZmlsZQ%3D%3D?line=23'>24</a>\u001b[0m                     n_patch\u001b[39m=\u001b[39m\u001b[39m0\u001b[39m\n\u001b[0;32m---> <a href='vscode-notebook-cell:/Users/cihankatar/Desktop/Github_Repo/Vision_Transformer/ViT_Cihan%20.ipynb#W2sZmlsZQ%3D%3D?line=25'>26</a>\u001b[0m \u001b[39mprint\u001b[39m(total_patches\u001b[39m.\u001b[39mshape)\n",
      "\u001b[0;31mNameError\u001b[0m: name 'total_patches' is not defined"
     ]
    }
   ],
   "source": []
  },
  {
   "cell_type": "code",
   "execution_count": 2,
   "metadata": {},
   "outputs": [],
   "source": []
  },
  {
   "cell_type": "code",
   "execution_count": 7,
   "metadata": {},
   "outputs": [],
   "source": []
  }
 ],
 "metadata": {
  "kernelspec": {
   "display_name": "Python 3",
   "language": "python",
   "name": "python3"
  },
  "language_info": {
   "codemirror_mode": {
    "name": "ipython",
    "version": 3
   },
   "file_extension": ".py",
   "mimetype": "text/x-python",
   "name": "python",
   "nbconvert_exporter": "python",
   "pygments_lexer": "ipython3",
   "version": "3.9.7"
  },
  "orig_nbformat": 4,
  "vscode": {
   "interpreter": {
    "hash": "aee8b7b246df8f9039afb4144a1f6fd8d2ca17a180786b69acc140d282b71a49"
   }
  }
 },
 "nbformat": 4,
 "nbformat_minor": 2
}
